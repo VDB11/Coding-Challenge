{
  "nbformat": 4,
  "nbformat_minor": 0,
  "metadata": {
    "colab": {
      "provenance": []
    },
    "kernelspec": {
      "name": "python3",
      "display_name": "Python 3"
    },
    "language_info": {
      "name": "python"
    }
  },
  "cells": [
    {
      "cell_type": "code",
      "execution_count": 1,
      "metadata": {
        "colab": {
          "base_uri": "https://localhost:8080/",
          "height": 73
        },
        "id": "OEgg8at8qn1W",
        "outputId": "16fcf535-6a97-48c3-891a-636f6ab789fc"
      },
      "outputs": [
        {
          "output_type": "display_data",
          "data": {
            "text/plain": [
              "<IPython.core.display.HTML object>"
            ],
            "text/html": [
              "\n",
              "     <input type=\"file\" id=\"files-a58bb1c0-54b9-4677-a916-f76afd6deed2\" name=\"files[]\" multiple disabled\n",
              "        style=\"border:none\" />\n",
              "     <output id=\"result-a58bb1c0-54b9-4677-a916-f76afd6deed2\">\n",
              "      Upload widget is only available when the cell has been executed in the\n",
              "      current browser session. Please rerun this cell to enable.\n",
              "      </output>\n",
              "      <script>// Copyright 2017 Google LLC\n",
              "//\n",
              "// Licensed under the Apache License, Version 2.0 (the \"License\");\n",
              "// you may not use this file except in compliance with the License.\n",
              "// You may obtain a copy of the License at\n",
              "//\n",
              "//      http://www.apache.org/licenses/LICENSE-2.0\n",
              "//\n",
              "// Unless required by applicable law or agreed to in writing, software\n",
              "// distributed under the License is distributed on an \"AS IS\" BASIS,\n",
              "// WITHOUT WARRANTIES OR CONDITIONS OF ANY KIND, either express or implied.\n",
              "// See the License for the specific language governing permissions and\n",
              "// limitations under the License.\n",
              "\n",
              "/**\n",
              " * @fileoverview Helpers for google.colab Python module.\n",
              " */\n",
              "(function(scope) {\n",
              "function span(text, styleAttributes = {}) {\n",
              "  const element = document.createElement('span');\n",
              "  element.textContent = text;\n",
              "  for (const key of Object.keys(styleAttributes)) {\n",
              "    element.style[key] = styleAttributes[key];\n",
              "  }\n",
              "  return element;\n",
              "}\n",
              "\n",
              "// Max number of bytes which will be uploaded at a time.\n",
              "const MAX_PAYLOAD_SIZE = 100 * 1024;\n",
              "\n",
              "function _uploadFiles(inputId, outputId) {\n",
              "  const steps = uploadFilesStep(inputId, outputId);\n",
              "  const outputElement = document.getElementById(outputId);\n",
              "  // Cache steps on the outputElement to make it available for the next call\n",
              "  // to uploadFilesContinue from Python.\n",
              "  outputElement.steps = steps;\n",
              "\n",
              "  return _uploadFilesContinue(outputId);\n",
              "}\n",
              "\n",
              "// This is roughly an async generator (not supported in the browser yet),\n",
              "// where there are multiple asynchronous steps and the Python side is going\n",
              "// to poll for completion of each step.\n",
              "// This uses a Promise to block the python side on completion of each step,\n",
              "// then passes the result of the previous step as the input to the next step.\n",
              "function _uploadFilesContinue(outputId) {\n",
              "  const outputElement = document.getElementById(outputId);\n",
              "  const steps = outputElement.steps;\n",
              "\n",
              "  const next = steps.next(outputElement.lastPromiseValue);\n",
              "  return Promise.resolve(next.value.promise).then((value) => {\n",
              "    // Cache the last promise value to make it available to the next\n",
              "    // step of the generator.\n",
              "    outputElement.lastPromiseValue = value;\n",
              "    return next.value.response;\n",
              "  });\n",
              "}\n",
              "\n",
              "/**\n",
              " * Generator function which is called between each async step of the upload\n",
              " * process.\n",
              " * @param {string} inputId Element ID of the input file picker element.\n",
              " * @param {string} outputId Element ID of the output display.\n",
              " * @return {!Iterable<!Object>} Iterable of next steps.\n",
              " */\n",
              "function* uploadFilesStep(inputId, outputId) {\n",
              "  const inputElement = document.getElementById(inputId);\n",
              "  inputElement.disabled = false;\n",
              "\n",
              "  const outputElement = document.getElementById(outputId);\n",
              "  outputElement.innerHTML = '';\n",
              "\n",
              "  const pickedPromise = new Promise((resolve) => {\n",
              "    inputElement.addEventListener('change', (e) => {\n",
              "      resolve(e.target.files);\n",
              "    });\n",
              "  });\n",
              "\n",
              "  const cancel = document.createElement('button');\n",
              "  inputElement.parentElement.appendChild(cancel);\n",
              "  cancel.textContent = 'Cancel upload';\n",
              "  const cancelPromise = new Promise((resolve) => {\n",
              "    cancel.onclick = () => {\n",
              "      resolve(null);\n",
              "    };\n",
              "  });\n",
              "\n",
              "  // Wait for the user to pick the files.\n",
              "  const files = yield {\n",
              "    promise: Promise.race([pickedPromise, cancelPromise]),\n",
              "    response: {\n",
              "      action: 'starting',\n",
              "    }\n",
              "  };\n",
              "\n",
              "  cancel.remove();\n",
              "\n",
              "  // Disable the input element since further picks are not allowed.\n",
              "  inputElement.disabled = true;\n",
              "\n",
              "  if (!files) {\n",
              "    return {\n",
              "      response: {\n",
              "        action: 'complete',\n",
              "      }\n",
              "    };\n",
              "  }\n",
              "\n",
              "  for (const file of files) {\n",
              "    const li = document.createElement('li');\n",
              "    li.append(span(file.name, {fontWeight: 'bold'}));\n",
              "    li.append(span(\n",
              "        `(${file.type || 'n/a'}) - ${file.size} bytes, ` +\n",
              "        `last modified: ${\n",
              "            file.lastModifiedDate ? file.lastModifiedDate.toLocaleDateString() :\n",
              "                                    'n/a'} - `));\n",
              "    const percent = span('0% done');\n",
              "    li.appendChild(percent);\n",
              "\n",
              "    outputElement.appendChild(li);\n",
              "\n",
              "    const fileDataPromise = new Promise((resolve) => {\n",
              "      const reader = new FileReader();\n",
              "      reader.onload = (e) => {\n",
              "        resolve(e.target.result);\n",
              "      };\n",
              "      reader.readAsArrayBuffer(file);\n",
              "    });\n",
              "    // Wait for the data to be ready.\n",
              "    let fileData = yield {\n",
              "      promise: fileDataPromise,\n",
              "      response: {\n",
              "        action: 'continue',\n",
              "      }\n",
              "    };\n",
              "\n",
              "    // Use a chunked sending to avoid message size limits. See b/62115660.\n",
              "    let position = 0;\n",
              "    do {\n",
              "      const length = Math.min(fileData.byteLength - position, MAX_PAYLOAD_SIZE);\n",
              "      const chunk = new Uint8Array(fileData, position, length);\n",
              "      position += length;\n",
              "\n",
              "      const base64 = btoa(String.fromCharCode.apply(null, chunk));\n",
              "      yield {\n",
              "        response: {\n",
              "          action: 'append',\n",
              "          file: file.name,\n",
              "          data: base64,\n",
              "        },\n",
              "      };\n",
              "\n",
              "      let percentDone = fileData.byteLength === 0 ?\n",
              "          100 :\n",
              "          Math.round((position / fileData.byteLength) * 100);\n",
              "      percent.textContent = `${percentDone}% done`;\n",
              "\n",
              "    } while (position < fileData.byteLength);\n",
              "  }\n",
              "\n",
              "  // All done.\n",
              "  yield {\n",
              "    response: {\n",
              "      action: 'complete',\n",
              "    }\n",
              "  };\n",
              "}\n",
              "\n",
              "scope.google = scope.google || {};\n",
              "scope.google.colab = scope.google.colab || {};\n",
              "scope.google.colab._files = {\n",
              "  _uploadFiles,\n",
              "  _uploadFilesContinue,\n",
              "};\n",
              "})(self);\n",
              "</script> "
            ]
          },
          "metadata": {}
        },
        {
          "output_type": "stream",
          "name": "stdout",
          "text": [
            "Saving Train_Claim.csv to Train_Claim.csv\n"
          ]
        }
      ],
      "source": [
        "#To upload files from your machine to the Colab environment.\n",
        "from google.colab import files\n",
        "uploaded = files.upload()"
      ]
    },
    {
      "cell_type": "code",
      "source": [
        "import os\n",
        "import numpy as np\n",
        "import pandas as pd\n",
        "import sklearn \n"
      ],
      "metadata": {
        "id": "iEmaD91kruBo"
      },
      "execution_count": 2,
      "outputs": []
    },
    {
      "cell_type": "code",
      "source": [
        "#Read the data from the CSV file and create a pandas dataframe object.\n",
        "train = pd.read_csv(r\"Train_Claim.csv\")\n",
        "print(\"Train Data:    \", train.shape)\n"
      ],
      "metadata": {
        "colab": {
          "base_uri": "https://localhost:8080/"
        },
        "id": "c66Z9WlArIMq",
        "outputId": "2c26bf00-d68a-4307-b735-8d190d635ec7"
      },
      "execution_count": 4,
      "outputs": [
        {
          "output_type": "stream",
          "name": "stdout",
          "text": [
            "Train Data:     (28836, 19)\n"
          ]
        }
      ]
    },
    {
      "cell_type": "code",
      "source": [
        "train.head() #Display first few rows "
      ],
      "metadata": {
        "colab": {
          "base_uri": "https://localhost:8080/",
          "height": 357
        },
        "id": "I4fNc5bfr_0o",
        "outputId": "58cdf3c4-b23d-4cc8-8e2d-dfc5a3a6a150"
      },
      "execution_count": 5,
      "outputs": [
        {
          "output_type": "execute_result",
          "data": {
            "text/plain": [
              "  CustomerID DateOfIncident            TypeOfIncident TypeOfCollission  \\\n",
              "0  Cust10000     03-02-2015   Multi-vehicle Collision   Side Collision   \n",
              "1  Cust10001     02-02-2015   Multi-vehicle Collision   Side Collision   \n",
              "2  Cust10002     15-01-2015  Single Vehicle Collision   Side Collision   \n",
              "3  Cust10003     19-01-2015  Single Vehicle Collision   Side Collision   \n",
              "4  Cust10004     09-01-2015  Single Vehicle Collision   Rear Collision   \n",
              "\n",
              "  SeverityOfIncident AuthoritiesContacted IncidentState IncidentCity  \\\n",
              "0         Total Loss               Police        State7        City1   \n",
              "1         Total Loss               Police        State7        City5   \n",
              "2       Minor Damage                Other        State8        City6   \n",
              "3       Minor Damage                Other        State9        City6   \n",
              "4       Minor Damage                 Fire        State8        City6   \n",
              "\n",
              "  IncidentAddress  IncidentTime  NumberOfVehicles PropertyDamage  \\\n",
              "0   Location 1311            17                 3              ?   \n",
              "1   Location 1311            10                 3            YES   \n",
              "2   Location 2081            22                 1            YES   \n",
              "3   Location 2081            22                 1            YES   \n",
              "4   Location 1695            10                 1             NO   \n",
              "\n",
              "   BodilyInjuries Witnesses PoliceReport AmountOfTotalClaim  \\\n",
              "0               1         0            ?              65501   \n",
              "1               2         1          YES              61382   \n",
              "2               2         3           NO              66755   \n",
              "3               2         3           NO              66243   \n",
              "4               2         1          YES              53544   \n",
              "\n",
              "   AmountOfInjuryClaim  AmountOfPropertyClaim  AmountOfVehicleDamage  \n",
              "0                13417                   6071                  46013  \n",
              "1                15560                   5919                  39903  \n",
              "2                11630                  11630                  43495  \n",
              "3                12003                  12003                  42237  \n",
              "4                 8829                   7234                  37481  "
            ],
            "text/html": [
              "\n",
              "  <div id=\"df-a458a9a3-814e-4944-9847-8c5476497f10\">\n",
              "    <div class=\"colab-df-container\">\n",
              "      <div>\n",
              "<style scoped>\n",
              "    .dataframe tbody tr th:only-of-type {\n",
              "        vertical-align: middle;\n",
              "    }\n",
              "\n",
              "    .dataframe tbody tr th {\n",
              "        vertical-align: top;\n",
              "    }\n",
              "\n",
              "    .dataframe thead th {\n",
              "        text-align: right;\n",
              "    }\n",
              "</style>\n",
              "<table border=\"1\" class=\"dataframe\">\n",
              "  <thead>\n",
              "    <tr style=\"text-align: right;\">\n",
              "      <th></th>\n",
              "      <th>CustomerID</th>\n",
              "      <th>DateOfIncident</th>\n",
              "      <th>TypeOfIncident</th>\n",
              "      <th>TypeOfCollission</th>\n",
              "      <th>SeverityOfIncident</th>\n",
              "      <th>AuthoritiesContacted</th>\n",
              "      <th>IncidentState</th>\n",
              "      <th>IncidentCity</th>\n",
              "      <th>IncidentAddress</th>\n",
              "      <th>IncidentTime</th>\n",
              "      <th>NumberOfVehicles</th>\n",
              "      <th>PropertyDamage</th>\n",
              "      <th>BodilyInjuries</th>\n",
              "      <th>Witnesses</th>\n",
              "      <th>PoliceReport</th>\n",
              "      <th>AmountOfTotalClaim</th>\n",
              "      <th>AmountOfInjuryClaim</th>\n",
              "      <th>AmountOfPropertyClaim</th>\n",
              "      <th>AmountOfVehicleDamage</th>\n",
              "    </tr>\n",
              "  </thead>\n",
              "  <tbody>\n",
              "    <tr>\n",
              "      <th>0</th>\n",
              "      <td>Cust10000</td>\n",
              "      <td>03-02-2015</td>\n",
              "      <td>Multi-vehicle Collision</td>\n",
              "      <td>Side Collision</td>\n",
              "      <td>Total Loss</td>\n",
              "      <td>Police</td>\n",
              "      <td>State7</td>\n",
              "      <td>City1</td>\n",
              "      <td>Location 1311</td>\n",
              "      <td>17</td>\n",
              "      <td>3</td>\n",
              "      <td>?</td>\n",
              "      <td>1</td>\n",
              "      <td>0</td>\n",
              "      <td>?</td>\n",
              "      <td>65501</td>\n",
              "      <td>13417</td>\n",
              "      <td>6071</td>\n",
              "      <td>46013</td>\n",
              "    </tr>\n",
              "    <tr>\n",
              "      <th>1</th>\n",
              "      <td>Cust10001</td>\n",
              "      <td>02-02-2015</td>\n",
              "      <td>Multi-vehicle Collision</td>\n",
              "      <td>Side Collision</td>\n",
              "      <td>Total Loss</td>\n",
              "      <td>Police</td>\n",
              "      <td>State7</td>\n",
              "      <td>City5</td>\n",
              "      <td>Location 1311</td>\n",
              "      <td>10</td>\n",
              "      <td>3</td>\n",
              "      <td>YES</td>\n",
              "      <td>2</td>\n",
              "      <td>1</td>\n",
              "      <td>YES</td>\n",
              "      <td>61382</td>\n",
              "      <td>15560</td>\n",
              "      <td>5919</td>\n",
              "      <td>39903</td>\n",
              "    </tr>\n",
              "    <tr>\n",
              "      <th>2</th>\n",
              "      <td>Cust10002</td>\n",
              "      <td>15-01-2015</td>\n",
              "      <td>Single Vehicle Collision</td>\n",
              "      <td>Side Collision</td>\n",
              "      <td>Minor Damage</td>\n",
              "      <td>Other</td>\n",
              "      <td>State8</td>\n",
              "      <td>City6</td>\n",
              "      <td>Location 2081</td>\n",
              "      <td>22</td>\n",
              "      <td>1</td>\n",
              "      <td>YES</td>\n",
              "      <td>2</td>\n",
              "      <td>3</td>\n",
              "      <td>NO</td>\n",
              "      <td>66755</td>\n",
              "      <td>11630</td>\n",
              "      <td>11630</td>\n",
              "      <td>43495</td>\n",
              "    </tr>\n",
              "    <tr>\n",
              "      <th>3</th>\n",
              "      <td>Cust10003</td>\n",
              "      <td>19-01-2015</td>\n",
              "      <td>Single Vehicle Collision</td>\n",
              "      <td>Side Collision</td>\n",
              "      <td>Minor Damage</td>\n",
              "      <td>Other</td>\n",
              "      <td>State9</td>\n",
              "      <td>City6</td>\n",
              "      <td>Location 2081</td>\n",
              "      <td>22</td>\n",
              "      <td>1</td>\n",
              "      <td>YES</td>\n",
              "      <td>2</td>\n",
              "      <td>3</td>\n",
              "      <td>NO</td>\n",
              "      <td>66243</td>\n",
              "      <td>12003</td>\n",
              "      <td>12003</td>\n",
              "      <td>42237</td>\n",
              "    </tr>\n",
              "    <tr>\n",
              "      <th>4</th>\n",
              "      <td>Cust10004</td>\n",
              "      <td>09-01-2015</td>\n",
              "      <td>Single Vehicle Collision</td>\n",
              "      <td>Rear Collision</td>\n",
              "      <td>Minor Damage</td>\n",
              "      <td>Fire</td>\n",
              "      <td>State8</td>\n",
              "      <td>City6</td>\n",
              "      <td>Location 1695</td>\n",
              "      <td>10</td>\n",
              "      <td>1</td>\n",
              "      <td>NO</td>\n",
              "      <td>2</td>\n",
              "      <td>1</td>\n",
              "      <td>YES</td>\n",
              "      <td>53544</td>\n",
              "      <td>8829</td>\n",
              "      <td>7234</td>\n",
              "      <td>37481</td>\n",
              "    </tr>\n",
              "  </tbody>\n",
              "</table>\n",
              "</div>\n",
              "      <button class=\"colab-df-convert\" onclick=\"convertToInteractive('df-a458a9a3-814e-4944-9847-8c5476497f10')\"\n",
              "              title=\"Convert this dataframe to an interactive table.\"\n",
              "              style=\"display:none;\">\n",
              "        \n",
              "  <svg xmlns=\"http://www.w3.org/2000/svg\" height=\"24px\"viewBox=\"0 0 24 24\"\n",
              "       width=\"24px\">\n",
              "    <path d=\"M0 0h24v24H0V0z\" fill=\"none\"/>\n",
              "    <path d=\"M18.56 5.44l.94 2.06.94-2.06 2.06-.94-2.06-.94-.94-2.06-.94 2.06-2.06.94zm-11 1L8.5 8.5l.94-2.06 2.06-.94-2.06-.94L8.5 2.5l-.94 2.06-2.06.94zm10 10l.94 2.06.94-2.06 2.06-.94-2.06-.94-.94-2.06-.94 2.06-2.06.94z\"/><path d=\"M17.41 7.96l-1.37-1.37c-.4-.4-.92-.59-1.43-.59-.52 0-1.04.2-1.43.59L10.3 9.45l-7.72 7.72c-.78.78-.78 2.05 0 2.83L4 21.41c.39.39.9.59 1.41.59.51 0 1.02-.2 1.41-.59l7.78-7.78 2.81-2.81c.8-.78.8-2.07 0-2.86zM5.41 20L4 18.59l7.72-7.72 1.47 1.35L5.41 20z\"/>\n",
              "  </svg>\n",
              "      </button>\n",
              "      \n",
              "  <style>\n",
              "    .colab-df-container {\n",
              "      display:flex;\n",
              "      flex-wrap:wrap;\n",
              "      gap: 12px;\n",
              "    }\n",
              "\n",
              "    .colab-df-convert {\n",
              "      background-color: #E8F0FE;\n",
              "      border: none;\n",
              "      border-radius: 50%;\n",
              "      cursor: pointer;\n",
              "      display: none;\n",
              "      fill: #1967D2;\n",
              "      height: 32px;\n",
              "      padding: 0 0 0 0;\n",
              "      width: 32px;\n",
              "    }\n",
              "\n",
              "    .colab-df-convert:hover {\n",
              "      background-color: #E2EBFA;\n",
              "      box-shadow: 0px 1px 2px rgba(60, 64, 67, 0.3), 0px 1px 3px 1px rgba(60, 64, 67, 0.15);\n",
              "      fill: #174EA6;\n",
              "    }\n",
              "\n",
              "    [theme=dark] .colab-df-convert {\n",
              "      background-color: #3B4455;\n",
              "      fill: #D2E3FC;\n",
              "    }\n",
              "\n",
              "    [theme=dark] .colab-df-convert:hover {\n",
              "      background-color: #434B5C;\n",
              "      box-shadow: 0px 1px 3px 1px rgba(0, 0, 0, 0.15);\n",
              "      filter: drop-shadow(0px 1px 2px rgba(0, 0, 0, 0.3));\n",
              "      fill: #FFFFFF;\n",
              "    }\n",
              "  </style>\n",
              "\n",
              "      <script>\n",
              "        const buttonEl =\n",
              "          document.querySelector('#df-a458a9a3-814e-4944-9847-8c5476497f10 button.colab-df-convert');\n",
              "        buttonEl.style.display =\n",
              "          google.colab.kernel.accessAllowed ? 'block' : 'none';\n",
              "\n",
              "        async function convertToInteractive(key) {\n",
              "          const element = document.querySelector('#df-a458a9a3-814e-4944-9847-8c5476497f10');\n",
              "          const dataTable =\n",
              "            await google.colab.kernel.invokeFunction('convertToInteractive',\n",
              "                                                     [key], {});\n",
              "          if (!dataTable) return;\n",
              "\n",
              "          const docLinkHtml = 'Like what you see? Visit the ' +\n",
              "            '<a target=\"_blank\" href=https://colab.research.google.com/notebooks/data_table.ipynb>data table notebook</a>'\n",
              "            + ' to learn more about interactive tables.';\n",
              "          element.innerHTML = '';\n",
              "          dataTable['output_type'] = 'display_data';\n",
              "          await google.colab.output.renderOutput(dataTable, element);\n",
              "          const docLink = document.createElement('div');\n",
              "          docLink.innerHTML = docLinkHtml;\n",
              "          element.appendChild(docLink);\n",
              "        }\n",
              "      </script>\n",
              "    </div>\n",
              "  </div>\n",
              "  "
            ]
          },
          "metadata": {},
          "execution_count": 5
        }
      ]
    },
    {
      "cell_type": "code",
      "source": [
        "train.nunique() #Count and display number of unique values"
      ],
      "metadata": {
        "colab": {
          "base_uri": "https://localhost:8080/"
        },
        "id": "gombtjfOsGcJ",
        "outputId": "e6890a73-714c-48f0-e0a8-66535cb08449"
      },
      "execution_count": 6,
      "outputs": [
        {
          "output_type": "execute_result",
          "data": {
            "text/plain": [
              "CustomerID               28836\n",
              "DateOfIncident              72\n",
              "TypeOfIncident               4\n",
              "TypeOfCollission             4\n",
              "SeverityOfIncident           4\n",
              "AuthoritiesContacted         5\n",
              "IncidentState                7\n",
              "IncidentCity                 7\n",
              "IncidentAddress           1000\n",
              "IncidentTime                25\n",
              "NumberOfVehicles             4\n",
              "PropertyDamage               3\n",
              "BodilyInjuries               3\n",
              "Witnesses                    5\n",
              "PoliceReport                 3\n",
              "AmountOfTotalClaim       21976\n",
              "AmountOfInjuryClaim      11958\n",
              "AmountOfPropertyClaim    11785\n",
              "AmountOfVehicleDamage    20041\n",
              "dtype: int64"
            ]
          },
          "metadata": {},
          "execution_count": 6
        }
      ]
    },
    {
      "cell_type": "code",
      "source": [
        "train.head().T # Swaps the rows and columns"
      ],
      "metadata": {
        "colab": {
          "base_uri": "https://localhost:8080/",
          "height": 645
        },
        "id": "h_O7-mWssd_w",
        "outputId": "e6c9398c-e86a-49d9-cab7-4e5f84c6c7ce"
      },
      "execution_count": 7,
      "outputs": [
        {
          "output_type": "execute_result",
          "data": {
            "text/plain": [
              "                                             0                        1  \\\n",
              "CustomerID                           Cust10000                Cust10001   \n",
              "DateOfIncident                      03-02-2015               02-02-2015   \n",
              "TypeOfIncident         Multi-vehicle Collision  Multi-vehicle Collision   \n",
              "TypeOfCollission                Side Collision           Side Collision   \n",
              "SeverityOfIncident                  Total Loss               Total Loss   \n",
              "AuthoritiesContacted                    Police                   Police   \n",
              "IncidentState                           State7                   State7   \n",
              "IncidentCity                             City1                    City5   \n",
              "IncidentAddress                  Location 1311            Location 1311   \n",
              "IncidentTime                                17                       10   \n",
              "NumberOfVehicles                             3                        3   \n",
              "PropertyDamage                               ?                      YES   \n",
              "BodilyInjuries                               1                        2   \n",
              "Witnesses                                    0                        1   \n",
              "PoliceReport                                 ?                      YES   \n",
              "AmountOfTotalClaim                       65501                    61382   \n",
              "AmountOfInjuryClaim                      13417                    15560   \n",
              "AmountOfPropertyClaim                     6071                     5919   \n",
              "AmountOfVehicleDamage                    46013                    39903   \n",
              "\n",
              "                                              2                         3  \\\n",
              "CustomerID                            Cust10002                 Cust10003   \n",
              "DateOfIncident                       15-01-2015                19-01-2015   \n",
              "TypeOfIncident         Single Vehicle Collision  Single Vehicle Collision   \n",
              "TypeOfCollission                 Side Collision            Side Collision   \n",
              "SeverityOfIncident                 Minor Damage              Minor Damage   \n",
              "AuthoritiesContacted                      Other                     Other   \n",
              "IncidentState                            State8                    State9   \n",
              "IncidentCity                              City6                     City6   \n",
              "IncidentAddress                   Location 2081             Location 2081   \n",
              "IncidentTime                                 22                        22   \n",
              "NumberOfVehicles                              1                         1   \n",
              "PropertyDamage                              YES                       YES   \n",
              "BodilyInjuries                                2                         2   \n",
              "Witnesses                                     3                         3   \n",
              "PoliceReport                                 NO                        NO   \n",
              "AmountOfTotalClaim                        66755                     66243   \n",
              "AmountOfInjuryClaim                       11630                     12003   \n",
              "AmountOfPropertyClaim                     11630                     12003   \n",
              "AmountOfVehicleDamage                     43495                     42237   \n",
              "\n",
              "                                              4  \n",
              "CustomerID                            Cust10004  \n",
              "DateOfIncident                       09-01-2015  \n",
              "TypeOfIncident         Single Vehicle Collision  \n",
              "TypeOfCollission                 Rear Collision  \n",
              "SeverityOfIncident                 Minor Damage  \n",
              "AuthoritiesContacted                       Fire  \n",
              "IncidentState                            State8  \n",
              "IncidentCity                              City6  \n",
              "IncidentAddress                   Location 1695  \n",
              "IncidentTime                                 10  \n",
              "NumberOfVehicles                              1  \n",
              "PropertyDamage                               NO  \n",
              "BodilyInjuries                                2  \n",
              "Witnesses                                     1  \n",
              "PoliceReport                                YES  \n",
              "AmountOfTotalClaim                        53544  \n",
              "AmountOfInjuryClaim                        8829  \n",
              "AmountOfPropertyClaim                      7234  \n",
              "AmountOfVehicleDamage                     37481  "
            ],
            "text/html": [
              "\n",
              "  <div id=\"df-3680467c-04b7-45bf-b193-292c0c6547fd\">\n",
              "    <div class=\"colab-df-container\">\n",
              "      <div>\n",
              "<style scoped>\n",
              "    .dataframe tbody tr th:only-of-type {\n",
              "        vertical-align: middle;\n",
              "    }\n",
              "\n",
              "    .dataframe tbody tr th {\n",
              "        vertical-align: top;\n",
              "    }\n",
              "\n",
              "    .dataframe thead th {\n",
              "        text-align: right;\n",
              "    }\n",
              "</style>\n",
              "<table border=\"1\" class=\"dataframe\">\n",
              "  <thead>\n",
              "    <tr style=\"text-align: right;\">\n",
              "      <th></th>\n",
              "      <th>0</th>\n",
              "      <th>1</th>\n",
              "      <th>2</th>\n",
              "      <th>3</th>\n",
              "      <th>4</th>\n",
              "    </tr>\n",
              "  </thead>\n",
              "  <tbody>\n",
              "    <tr>\n",
              "      <th>CustomerID</th>\n",
              "      <td>Cust10000</td>\n",
              "      <td>Cust10001</td>\n",
              "      <td>Cust10002</td>\n",
              "      <td>Cust10003</td>\n",
              "      <td>Cust10004</td>\n",
              "    </tr>\n",
              "    <tr>\n",
              "      <th>DateOfIncident</th>\n",
              "      <td>03-02-2015</td>\n",
              "      <td>02-02-2015</td>\n",
              "      <td>15-01-2015</td>\n",
              "      <td>19-01-2015</td>\n",
              "      <td>09-01-2015</td>\n",
              "    </tr>\n",
              "    <tr>\n",
              "      <th>TypeOfIncident</th>\n",
              "      <td>Multi-vehicle Collision</td>\n",
              "      <td>Multi-vehicle Collision</td>\n",
              "      <td>Single Vehicle Collision</td>\n",
              "      <td>Single Vehicle Collision</td>\n",
              "      <td>Single Vehicle Collision</td>\n",
              "    </tr>\n",
              "    <tr>\n",
              "      <th>TypeOfCollission</th>\n",
              "      <td>Side Collision</td>\n",
              "      <td>Side Collision</td>\n",
              "      <td>Side Collision</td>\n",
              "      <td>Side Collision</td>\n",
              "      <td>Rear Collision</td>\n",
              "    </tr>\n",
              "    <tr>\n",
              "      <th>SeverityOfIncident</th>\n",
              "      <td>Total Loss</td>\n",
              "      <td>Total Loss</td>\n",
              "      <td>Minor Damage</td>\n",
              "      <td>Minor Damage</td>\n",
              "      <td>Minor Damage</td>\n",
              "    </tr>\n",
              "    <tr>\n",
              "      <th>AuthoritiesContacted</th>\n",
              "      <td>Police</td>\n",
              "      <td>Police</td>\n",
              "      <td>Other</td>\n",
              "      <td>Other</td>\n",
              "      <td>Fire</td>\n",
              "    </tr>\n",
              "    <tr>\n",
              "      <th>IncidentState</th>\n",
              "      <td>State7</td>\n",
              "      <td>State7</td>\n",
              "      <td>State8</td>\n",
              "      <td>State9</td>\n",
              "      <td>State8</td>\n",
              "    </tr>\n",
              "    <tr>\n",
              "      <th>IncidentCity</th>\n",
              "      <td>City1</td>\n",
              "      <td>City5</td>\n",
              "      <td>City6</td>\n",
              "      <td>City6</td>\n",
              "      <td>City6</td>\n",
              "    </tr>\n",
              "    <tr>\n",
              "      <th>IncidentAddress</th>\n",
              "      <td>Location 1311</td>\n",
              "      <td>Location 1311</td>\n",
              "      <td>Location 2081</td>\n",
              "      <td>Location 2081</td>\n",
              "      <td>Location 1695</td>\n",
              "    </tr>\n",
              "    <tr>\n",
              "      <th>IncidentTime</th>\n",
              "      <td>17</td>\n",
              "      <td>10</td>\n",
              "      <td>22</td>\n",
              "      <td>22</td>\n",
              "      <td>10</td>\n",
              "    </tr>\n",
              "    <tr>\n",
              "      <th>NumberOfVehicles</th>\n",
              "      <td>3</td>\n",
              "      <td>3</td>\n",
              "      <td>1</td>\n",
              "      <td>1</td>\n",
              "      <td>1</td>\n",
              "    </tr>\n",
              "    <tr>\n",
              "      <th>PropertyDamage</th>\n",
              "      <td>?</td>\n",
              "      <td>YES</td>\n",
              "      <td>YES</td>\n",
              "      <td>YES</td>\n",
              "      <td>NO</td>\n",
              "    </tr>\n",
              "    <tr>\n",
              "      <th>BodilyInjuries</th>\n",
              "      <td>1</td>\n",
              "      <td>2</td>\n",
              "      <td>2</td>\n",
              "      <td>2</td>\n",
              "      <td>2</td>\n",
              "    </tr>\n",
              "    <tr>\n",
              "      <th>Witnesses</th>\n",
              "      <td>0</td>\n",
              "      <td>1</td>\n",
              "      <td>3</td>\n",
              "      <td>3</td>\n",
              "      <td>1</td>\n",
              "    </tr>\n",
              "    <tr>\n",
              "      <th>PoliceReport</th>\n",
              "      <td>?</td>\n",
              "      <td>YES</td>\n",
              "      <td>NO</td>\n",
              "      <td>NO</td>\n",
              "      <td>YES</td>\n",
              "    </tr>\n",
              "    <tr>\n",
              "      <th>AmountOfTotalClaim</th>\n",
              "      <td>65501</td>\n",
              "      <td>61382</td>\n",
              "      <td>66755</td>\n",
              "      <td>66243</td>\n",
              "      <td>53544</td>\n",
              "    </tr>\n",
              "    <tr>\n",
              "      <th>AmountOfInjuryClaim</th>\n",
              "      <td>13417</td>\n",
              "      <td>15560</td>\n",
              "      <td>11630</td>\n",
              "      <td>12003</td>\n",
              "      <td>8829</td>\n",
              "    </tr>\n",
              "    <tr>\n",
              "      <th>AmountOfPropertyClaim</th>\n",
              "      <td>6071</td>\n",
              "      <td>5919</td>\n",
              "      <td>11630</td>\n",
              "      <td>12003</td>\n",
              "      <td>7234</td>\n",
              "    </tr>\n",
              "    <tr>\n",
              "      <th>AmountOfVehicleDamage</th>\n",
              "      <td>46013</td>\n",
              "      <td>39903</td>\n",
              "      <td>43495</td>\n",
              "      <td>42237</td>\n",
              "      <td>37481</td>\n",
              "    </tr>\n",
              "  </tbody>\n",
              "</table>\n",
              "</div>\n",
              "      <button class=\"colab-df-convert\" onclick=\"convertToInteractive('df-3680467c-04b7-45bf-b193-292c0c6547fd')\"\n",
              "              title=\"Convert this dataframe to an interactive table.\"\n",
              "              style=\"display:none;\">\n",
              "        \n",
              "  <svg xmlns=\"http://www.w3.org/2000/svg\" height=\"24px\"viewBox=\"0 0 24 24\"\n",
              "       width=\"24px\">\n",
              "    <path d=\"M0 0h24v24H0V0z\" fill=\"none\"/>\n",
              "    <path d=\"M18.56 5.44l.94 2.06.94-2.06 2.06-.94-2.06-.94-.94-2.06-.94 2.06-2.06.94zm-11 1L8.5 8.5l.94-2.06 2.06-.94-2.06-.94L8.5 2.5l-.94 2.06-2.06.94zm10 10l.94 2.06.94-2.06 2.06-.94-2.06-.94-.94-2.06-.94 2.06-2.06.94z\"/><path d=\"M17.41 7.96l-1.37-1.37c-.4-.4-.92-.59-1.43-.59-.52 0-1.04.2-1.43.59L10.3 9.45l-7.72 7.72c-.78.78-.78 2.05 0 2.83L4 21.41c.39.39.9.59 1.41.59.51 0 1.02-.2 1.41-.59l7.78-7.78 2.81-2.81c.8-.78.8-2.07 0-2.86zM5.41 20L4 18.59l7.72-7.72 1.47 1.35L5.41 20z\"/>\n",
              "  </svg>\n",
              "      </button>\n",
              "      \n",
              "  <style>\n",
              "    .colab-df-container {\n",
              "      display:flex;\n",
              "      flex-wrap:wrap;\n",
              "      gap: 12px;\n",
              "    }\n",
              "\n",
              "    .colab-df-convert {\n",
              "      background-color: #E8F0FE;\n",
              "      border: none;\n",
              "      border-radius: 50%;\n",
              "      cursor: pointer;\n",
              "      display: none;\n",
              "      fill: #1967D2;\n",
              "      height: 32px;\n",
              "      padding: 0 0 0 0;\n",
              "      width: 32px;\n",
              "    }\n",
              "\n",
              "    .colab-df-convert:hover {\n",
              "      background-color: #E2EBFA;\n",
              "      box-shadow: 0px 1px 2px rgba(60, 64, 67, 0.3), 0px 1px 3px 1px rgba(60, 64, 67, 0.15);\n",
              "      fill: #174EA6;\n",
              "    }\n",
              "\n",
              "    [theme=dark] .colab-df-convert {\n",
              "      background-color: #3B4455;\n",
              "      fill: #D2E3FC;\n",
              "    }\n",
              "\n",
              "    [theme=dark] .colab-df-convert:hover {\n",
              "      background-color: #434B5C;\n",
              "      box-shadow: 0px 1px 3px 1px rgba(0, 0, 0, 0.15);\n",
              "      filter: drop-shadow(0px 1px 2px rgba(0, 0, 0, 0.3));\n",
              "      fill: #FFFFFF;\n",
              "    }\n",
              "  </style>\n",
              "\n",
              "      <script>\n",
              "        const buttonEl =\n",
              "          document.querySelector('#df-3680467c-04b7-45bf-b193-292c0c6547fd button.colab-df-convert');\n",
              "        buttonEl.style.display =\n",
              "          google.colab.kernel.accessAllowed ? 'block' : 'none';\n",
              "\n",
              "        async function convertToInteractive(key) {\n",
              "          const element = document.querySelector('#df-3680467c-04b7-45bf-b193-292c0c6547fd');\n",
              "          const dataTable =\n",
              "            await google.colab.kernel.invokeFunction('convertToInteractive',\n",
              "                                                     [key], {});\n",
              "          if (!dataTable) return;\n",
              "\n",
              "          const docLinkHtml = 'Like what you see? Visit the ' +\n",
              "            '<a target=\"_blank\" href=https://colab.research.google.com/notebooks/data_table.ipynb>data table notebook</a>'\n",
              "            + ' to learn more about interactive tables.';\n",
              "          element.innerHTML = '';\n",
              "          dataTable['output_type'] = 'display_data';\n",
              "          await google.colab.output.renderOutput(dataTable, element);\n",
              "          const docLink = document.createElement('div');\n",
              "          docLink.innerHTML = docLinkHtml;\n",
              "          element.appendChild(docLink);\n",
              "        }\n",
              "      </script>\n",
              "    </div>\n",
              "  </div>\n",
              "  "
            ]
          },
          "metadata": {},
          "execution_count": 7
        }
      ]
    },
    {
      "cell_type": "code",
      "source": [
        "train.describe() #Generate descriptive statistics of the dataframe"
      ],
      "metadata": {
        "colab": {
          "base_uri": "https://localhost:8080/",
          "height": 300
        },
        "id": "eeGNWhZYsg8I",
        "outputId": "7960e401-dd7a-4901-c619-31d74f413647"
      },
      "execution_count": 8,
      "outputs": [
        {
          "output_type": "execute_result",
          "data": {
            "text/plain": [
              "       IncidentTime  NumberOfVehicles  BodilyInjuries  AmountOfInjuryClaim  \\\n",
              "count  28836.000000      28836.000000    28836.000000         28836.000000   \n",
              "mean      11.746047          1.823207        0.985782          7337.118428   \n",
              "std        6.170069          0.980099        0.784764          4427.638593   \n",
              "min       -5.000000          1.000000        0.000000             0.000000   \n",
              "25%        6.000000          1.000000        0.000000          4743.750000   \n",
              "50%       12.000000          1.000000        1.000000          7147.000000   \n",
              "75%       17.000000          3.000000        2.000000         10571.250000   \n",
              "max       23.000000          4.000000        2.000000         21450.000000   \n",
              "\n",
              "       AmountOfPropertyClaim  AmountOfVehicleDamage  \n",
              "count           28836.000000           28836.000000  \n",
              "mean             7283.870197           37687.129387  \n",
              "std              4375.842738           17977.048232  \n",
              "min                 0.000000             109.000000  \n",
              "25%              4862.000000           32193.250000  \n",
              "50%              7051.000000           42457.500000  \n",
              "75%             10327.000000           49535.750000  \n",
              "max             23670.000000           79560.000000  "
            ],
            "text/html": [
              "\n",
              "  <div id=\"df-8eba17f4-960c-495c-92c2-c6e9d5e65dae\">\n",
              "    <div class=\"colab-df-container\">\n",
              "      <div>\n",
              "<style scoped>\n",
              "    .dataframe tbody tr th:only-of-type {\n",
              "        vertical-align: middle;\n",
              "    }\n",
              "\n",
              "    .dataframe tbody tr th {\n",
              "        vertical-align: top;\n",
              "    }\n",
              "\n",
              "    .dataframe thead th {\n",
              "        text-align: right;\n",
              "    }\n",
              "</style>\n",
              "<table border=\"1\" class=\"dataframe\">\n",
              "  <thead>\n",
              "    <tr style=\"text-align: right;\">\n",
              "      <th></th>\n",
              "      <th>IncidentTime</th>\n",
              "      <th>NumberOfVehicles</th>\n",
              "      <th>BodilyInjuries</th>\n",
              "      <th>AmountOfInjuryClaim</th>\n",
              "      <th>AmountOfPropertyClaim</th>\n",
              "      <th>AmountOfVehicleDamage</th>\n",
              "    </tr>\n",
              "  </thead>\n",
              "  <tbody>\n",
              "    <tr>\n",
              "      <th>count</th>\n",
              "      <td>28836.000000</td>\n",
              "      <td>28836.000000</td>\n",
              "      <td>28836.000000</td>\n",
              "      <td>28836.000000</td>\n",
              "      <td>28836.000000</td>\n",
              "      <td>28836.000000</td>\n",
              "    </tr>\n",
              "    <tr>\n",
              "      <th>mean</th>\n",
              "      <td>11.746047</td>\n",
              "      <td>1.823207</td>\n",
              "      <td>0.985782</td>\n",
              "      <td>7337.118428</td>\n",
              "      <td>7283.870197</td>\n",
              "      <td>37687.129387</td>\n",
              "    </tr>\n",
              "    <tr>\n",
              "      <th>std</th>\n",
              "      <td>6.170069</td>\n",
              "      <td>0.980099</td>\n",
              "      <td>0.784764</td>\n",
              "      <td>4427.638593</td>\n",
              "      <td>4375.842738</td>\n",
              "      <td>17977.048232</td>\n",
              "    </tr>\n",
              "    <tr>\n",
              "      <th>min</th>\n",
              "      <td>-5.000000</td>\n",
              "      <td>1.000000</td>\n",
              "      <td>0.000000</td>\n",
              "      <td>0.000000</td>\n",
              "      <td>0.000000</td>\n",
              "      <td>109.000000</td>\n",
              "    </tr>\n",
              "    <tr>\n",
              "      <th>25%</th>\n",
              "      <td>6.000000</td>\n",
              "      <td>1.000000</td>\n",
              "      <td>0.000000</td>\n",
              "      <td>4743.750000</td>\n",
              "      <td>4862.000000</td>\n",
              "      <td>32193.250000</td>\n",
              "    </tr>\n",
              "    <tr>\n",
              "      <th>50%</th>\n",
              "      <td>12.000000</td>\n",
              "      <td>1.000000</td>\n",
              "      <td>1.000000</td>\n",
              "      <td>7147.000000</td>\n",
              "      <td>7051.000000</td>\n",
              "      <td>42457.500000</td>\n",
              "    </tr>\n",
              "    <tr>\n",
              "      <th>75%</th>\n",
              "      <td>17.000000</td>\n",
              "      <td>3.000000</td>\n",
              "      <td>2.000000</td>\n",
              "      <td>10571.250000</td>\n",
              "      <td>10327.000000</td>\n",
              "      <td>49535.750000</td>\n",
              "    </tr>\n",
              "    <tr>\n",
              "      <th>max</th>\n",
              "      <td>23.000000</td>\n",
              "      <td>4.000000</td>\n",
              "      <td>2.000000</td>\n",
              "      <td>21450.000000</td>\n",
              "      <td>23670.000000</td>\n",
              "      <td>79560.000000</td>\n",
              "    </tr>\n",
              "  </tbody>\n",
              "</table>\n",
              "</div>\n",
              "      <button class=\"colab-df-convert\" onclick=\"convertToInteractive('df-8eba17f4-960c-495c-92c2-c6e9d5e65dae')\"\n",
              "              title=\"Convert this dataframe to an interactive table.\"\n",
              "              style=\"display:none;\">\n",
              "        \n",
              "  <svg xmlns=\"http://www.w3.org/2000/svg\" height=\"24px\"viewBox=\"0 0 24 24\"\n",
              "       width=\"24px\">\n",
              "    <path d=\"M0 0h24v24H0V0z\" fill=\"none\"/>\n",
              "    <path d=\"M18.56 5.44l.94 2.06.94-2.06 2.06-.94-2.06-.94-.94-2.06-.94 2.06-2.06.94zm-11 1L8.5 8.5l.94-2.06 2.06-.94-2.06-.94L8.5 2.5l-.94 2.06-2.06.94zm10 10l.94 2.06.94-2.06 2.06-.94-2.06-.94-.94-2.06-.94 2.06-2.06.94z\"/><path d=\"M17.41 7.96l-1.37-1.37c-.4-.4-.92-.59-1.43-.59-.52 0-1.04.2-1.43.59L10.3 9.45l-7.72 7.72c-.78.78-.78 2.05 0 2.83L4 21.41c.39.39.9.59 1.41.59.51 0 1.02-.2 1.41-.59l7.78-7.78 2.81-2.81c.8-.78.8-2.07 0-2.86zM5.41 20L4 18.59l7.72-7.72 1.47 1.35L5.41 20z\"/>\n",
              "  </svg>\n",
              "      </button>\n",
              "      \n",
              "  <style>\n",
              "    .colab-df-container {\n",
              "      display:flex;\n",
              "      flex-wrap:wrap;\n",
              "      gap: 12px;\n",
              "    }\n",
              "\n",
              "    .colab-df-convert {\n",
              "      background-color: #E8F0FE;\n",
              "      border: none;\n",
              "      border-radius: 50%;\n",
              "      cursor: pointer;\n",
              "      display: none;\n",
              "      fill: #1967D2;\n",
              "      height: 32px;\n",
              "      padding: 0 0 0 0;\n",
              "      width: 32px;\n",
              "    }\n",
              "\n",
              "    .colab-df-convert:hover {\n",
              "      background-color: #E2EBFA;\n",
              "      box-shadow: 0px 1px 2px rgba(60, 64, 67, 0.3), 0px 1px 3px 1px rgba(60, 64, 67, 0.15);\n",
              "      fill: #174EA6;\n",
              "    }\n",
              "\n",
              "    [theme=dark] .colab-df-convert {\n",
              "      background-color: #3B4455;\n",
              "      fill: #D2E3FC;\n",
              "    }\n",
              "\n",
              "    [theme=dark] .colab-df-convert:hover {\n",
              "      background-color: #434B5C;\n",
              "      box-shadow: 0px 1px 3px 1px rgba(0, 0, 0, 0.15);\n",
              "      filter: drop-shadow(0px 1px 2px rgba(0, 0, 0, 0.3));\n",
              "      fill: #FFFFFF;\n",
              "    }\n",
              "  </style>\n",
              "\n",
              "      <script>\n",
              "        const buttonEl =\n",
              "          document.querySelector('#df-8eba17f4-960c-495c-92c2-c6e9d5e65dae button.colab-df-convert');\n",
              "        buttonEl.style.display =\n",
              "          google.colab.kernel.accessAllowed ? 'block' : 'none';\n",
              "\n",
              "        async function convertToInteractive(key) {\n",
              "          const element = document.querySelector('#df-8eba17f4-960c-495c-92c2-c6e9d5e65dae');\n",
              "          const dataTable =\n",
              "            await google.colab.kernel.invokeFunction('convertToInteractive',\n",
              "                                                     [key], {});\n",
              "          if (!dataTable) return;\n",
              "\n",
              "          const docLinkHtml = 'Like what you see? Visit the ' +\n",
              "            '<a target=\"_blank\" href=https://colab.research.google.com/notebooks/data_table.ipynb>data table notebook</a>'\n",
              "            + ' to learn more about interactive tables.';\n",
              "          element.innerHTML = '';\n",
              "          dataTable['output_type'] = 'display_data';\n",
              "          await google.colab.output.renderOutput(dataTable, element);\n",
              "          const docLink = document.createElement('div');\n",
              "          docLink.innerHTML = docLinkHtml;\n",
              "          element.appendChild(docLink);\n",
              "        }\n",
              "      </script>\n",
              "    </div>\n",
              "  </div>\n",
              "  "
            ]
          },
          "metadata": {},
          "execution_count": 8
        }
      ]
    },
    {
      "cell_type": "code",
      "source": [
        "#Keep the first occurrence of each duplicated row and drop the subsequent duplicates.\n",
        "train.drop_duplicates(keep = 'first',inplace=True)\n",
        "print(train.shape)"
      ],
      "metadata": {
        "colab": {
          "base_uri": "https://localhost:8080/"
        },
        "id": "psG8ETqQsmIa",
        "outputId": "d30d140d-6fbd-41a2-fa07-bc1a83cf07c5"
      },
      "execution_count": 9,
      "outputs": [
        {
          "output_type": "stream",
          "name": "stdout",
          "text": [
            "(28836, 19)\n"
          ]
        }
      ]
    },
    {
      "cell_type": "code",
      "source": [
        " #Convert selected columns\n",
        "cat_cols = train.select_dtypes(include='object').columns\n",
        "for col in cat_cols:\n",
        "    train[col] = train[col].astype('category')"
      ],
      "metadata": {
        "id": "onalTe4StED-"
      },
      "execution_count": 10,
      "outputs": []
    },
    {
      "cell_type": "code",
      "source": [
        "#List of all categorical data columns\n",
        "cat_cols = ['TypeOfIncident', 'TypeOfCollission', 'SeverityOfIncident', 'AuthoritiesContacted', 'IncidentState', 'IncidentCity', \n",
        "           'PropertyDamage','PoliceReport']"
      ],
      "metadata": {
        "id": "lnx5KnrGtuPe"
      },
      "execution_count": 11,
      "outputs": []
    },
    {
      "cell_type": "code",
      "source": [
        "#List of all numerical data colums\n",
        "num_cols = ['CustomerID','DateOfIncident', 'IncidentTime', 'NumberOfVehicles', 'BodilyInjuries', 'IncidentAddress', 'Witnesses',\n",
        "            'AmountOfInjuryClaim', 'AmountOfPropertyClaim', 'AmountOfVehicleDamage', 'AmountOfTotalClaim']\n",
        "            "
      ],
      "metadata": {
        "id": "bjrHN9ZHt1QC"
      },
      "execution_count": 12,
      "outputs": []
    },
    {
      "cell_type": "code",
      "source": [
        "import pandas as pd\n",
        "from sklearn.model_selection import train_test_split\n"
      ],
      "metadata": {
        "id": "1hMr9lDyvQGa"
      },
      "execution_count": 13,
      "outputs": []
    },
    {
      "cell_type": "code",
      "source": [
        "#Split the train DataFrame into input features, X and the target variable, y. \n",
        "#Further split the data into training and testing sets\n",
        "X = train.drop('SeverityOfIncident', axis=1)  # Input features\n",
        "y = train['SeverityOfIncident']  # Target variable\n",
        "X_train, X_test, y_train, y_test = train_test_split(X, y, test_size=0.2, random_state=42)\n"
      ],
      "metadata": {
        "id": "C5BnawqoxD1j"
      },
      "execution_count": 15,
      "outputs": []
    },
    {
      "cell_type": "code",
      "source": [
        "print(X_train.shape)\n",
        "print(X_test.shape)\n",
        "print(y_train.shape)\n",
        "print(y_test.shape)"
      ],
      "metadata": {
        "colab": {
          "base_uri": "https://localhost:8080/"
        },
        "id": "abZ1FGKLxcU1",
        "outputId": "1e6f72b1-543a-49c3-ab94-a409a685b539"
      },
      "execution_count": 16,
      "outputs": [
        {
          "output_type": "stream",
          "name": "stdout",
          "text": [
            "(23068, 18)\n",
            "(5768, 18)\n",
            "(23068,)\n",
            "(5768,)\n"
          ]
        }
      ]
    },
    {
      "cell_type": "code",
      "source": [
        "y_train.value_counts(normalize=True)*100"
      ],
      "metadata": {
        "colab": {
          "base_uri": "https://localhost:8080/"
        },
        "id": "LKkC_9hsxhFY",
        "outputId": "de197e5e-198e-45b9-bbed-2cb810ffe93a"
      },
      "execution_count": 17,
      "outputs": [
        {
          "output_type": "execute_result",
          "data": {
            "text/plain": [
              "Minor Damage      35.967574\n",
              "Total Loss        28.611063\n",
              "Major Damage      26.634299\n",
              "Trivial Damage     8.787064\n",
              "Name: SeverityOfIncident, dtype: float64"
            ]
          },
          "metadata": {},
          "execution_count": 17
        }
      ]
    },
    {
      "cell_type": "code",
      "source": [
        "y_test.value_counts(normalize=True)*100"
      ],
      "metadata": {
        "colab": {
          "base_uri": "https://localhost:8080/"
        },
        "id": "lSeegtIExi9i",
        "outputId": "b2521093-6749-44e2-a786-0bd15dce5d0d"
      },
      "execution_count": 18,
      "outputs": [
        {
          "output_type": "execute_result",
          "data": {
            "text/plain": [
              "Minor Damage      36.459778\n",
              "Total Loss        28.051318\n",
              "Major Damage      26.473648\n",
              "Trivial Damage     9.015257\n",
              "Name: SeverityOfIncident, dtype: float64"
            ]
          },
          "metadata": {},
          "execution_count": 18
        }
      ]
    },
    {
      "cell_type": "code",
      "source": [
        "#Create new dataframes \n",
        "cat_cols = ['TypeOfIncident', 'TypeOfCollission', 'AuthoritiesContacted', 'IncidentState', 'IncidentCity', \n",
        "           'PropertyDamage','PoliceReport']\n",
        "\n",
        "df_cat_train = X_train[cat_cols]\n",
        "df_cat_test = X_test[cat_cols]\n",
        "print(df_cat_train.shape)\n",
        "print(df_cat_test.shape)"
      ],
      "metadata": {
        "colab": {
          "base_uri": "https://localhost:8080/"
        },
        "id": "v6sK8VsC-gHT",
        "outputId": "44862240-81f0-4580-bf0a-fd0b5b57c8d2"
      },
      "execution_count": 37,
      "outputs": [
        {
          "output_type": "stream",
          "name": "stdout",
          "text": [
            "(23068, 7)\n",
            "(5768, 7)\n"
          ]
        }
      ]
    },
    {
      "cell_type": "code",
      "source": [
        "df_num_train = X_train[num_cols]\n",
        "df_num_test = X_test[num_cols]\n",
        "print(df_num_train.shape)\n",
        "print(df_num_test.shape)"
      ],
      "metadata": {
        "colab": {
          "base_uri": "https://localhost:8080/"
        },
        "id": "31ZjOan4_K4c",
        "outputId": "717156f7-998c-42cc-f661-db7ab3092b39"
      },
      "execution_count": 38,
      "outputs": [
        {
          "output_type": "stream",
          "name": "stdout",
          "text": [
            "(23068, 11)\n",
            "(5768, 11)\n"
          ]
        }
      ]
    },
    {
      "cell_type": "code",
      "source": [
        "#Impute missing values by replacing the missing data with most frequently occuring values\n",
        "from sklearn.impute import SimpleImputer\n",
        "cat_imputer = SimpleImputer(strategy=\"most_frequent\")\n",
        "cat_imputer.fit(df_cat_train)\n",
        "\n",
        "df_cat_imp_train = pd.DataFrame(cat_imputer.transform(df_cat_train), columns=cat_cols)\n",
        "df_cat_imp_test = pd.DataFrame(cat_imputer.transform(df_cat_test), columns=cat_cols)"
      ],
      "metadata": {
        "id": "JcJYSrRG_Ovk"
      },
      "execution_count": 39,
      "outputs": []
    },
    {
      "cell_type": "code",
      "source": [
        "print(df_cat_imp_train.shape)\n",
        "print(df_cat_imp_test.shape)"
      ],
      "metadata": {
        "colab": {
          "base_uri": "https://localhost:8080/"
        },
        "id": "B-TL7pKg_Qob",
        "outputId": "2bb0b0d5-3b87-4b45-e3a8-7f1da04d2fe0"
      },
      "execution_count": 40,
      "outputs": [
        {
          "output_type": "stream",
          "name": "stdout",
          "text": [
            "(23068, 7)\n",
            "(5768, 7)\n"
          ]
        }
      ]
    },
    {
      "cell_type": "code",
      "source": [
        "print(df_cat_imp_train.nunique())"
      ],
      "metadata": {
        "colab": {
          "base_uri": "https://localhost:8080/"
        },
        "id": "PaK_3FhZ_Wmp",
        "outputId": "91921565-01fe-4e4a-fbc0-e056ea052785"
      },
      "execution_count": 41,
      "outputs": [
        {
          "output_type": "stream",
          "name": "stdout",
          "text": [
            "TypeOfIncident          4\n",
            "TypeOfCollission        4\n",
            "AuthoritiesContacted    5\n",
            "IncidentState           7\n",
            "IncidentCity            7\n",
            "PropertyDamage          3\n",
            "PoliceReport            3\n",
            "dtype: int64\n"
          ]
        }
      ]
    },
    {
      "cell_type": "code",
      "source": [
        "#Impute missing values by replacing the missing data with most frequently occuring values\n",
        "from sklearn.impute import SimpleImputer\n",
        "num_imputer = SimpleImputer(strategy='most_frequent')\n",
        "num_imputer.fit(df_num_train)\n",
        "\n",
        "df_num_imp_train = pd.DataFrame(num_imputer.transform(df_num_train), columns=num_cols)\n",
        "df_num_imp_test =  pd.DataFrame(num_imputer.transform(df_num_test), columns=num_cols)"
      ],
      "metadata": {
        "id": "_nOJLVaJAq5W"
      },
      "execution_count": 50,
      "outputs": []
    },
    {
      "cell_type": "code",
      "source": [
        "print(df_num_imp_train.shape)\n",
        "print(df_num_imp_test.shape)"
      ],
      "metadata": {
        "colab": {
          "base_uri": "https://localhost:8080/"
        },
        "id": "Jn2E7MoiDEXh",
        "outputId": "500f6ff7-5b3a-4542-9cd7-f395736dfae8"
      },
      "execution_count": 51,
      "outputs": [
        {
          "output_type": "stream",
          "name": "stdout",
          "text": [
            "(23068, 11)\n",
            "(5768, 11)\n"
          ]
        }
      ]
    },
    {
      "cell_type": "code",
      "source": [
        "print(df_num_imp_train.nunique())"
      ],
      "metadata": {
        "colab": {
          "base_uri": "https://localhost:8080/"
        },
        "id": "wa619SylMSXD",
        "outputId": "02d7c0f4-c17d-47d0-9990-459cf44a98dd"
      },
      "execution_count": 56,
      "outputs": [
        {
          "output_type": "stream",
          "name": "stdout",
          "text": [
            "CustomerID               23068\n",
            "DateOfIncident              72\n",
            "IncidentTime                25\n",
            "NumberOfVehicles             4\n",
            "BodilyInjuries               3\n",
            "IncidentAddress           1000\n",
            "Witnesses                    5\n",
            "AmountOfInjuryClaim      10891\n",
            "AmountOfPropertyClaim    10735\n",
            "AmountOfVehicleDamage    17134\n",
            "AmountOfTotalClaim       18497\n",
            "dtype: int64\n"
          ]
        }
      ]
    },
    {
      "cell_type": "code",
      "source": [
        "#Check for any remaining null values in the dataset\n",
        "X_train1 = pd.concat([df_cat_imp_train, df_num_imp_train], axis = 1)\n",
        "X_test1 = pd.concat([df_cat_imp_test, df_num_imp_test], axis = 1)\n",
        "print(X_train1.isna().sum())\n",
        "print(X_test1.isna().sum())"
      ],
      "metadata": {
        "colab": {
          "base_uri": "https://localhost:8080/"
        },
        "id": "oAy7pHmODF8j",
        "outputId": "add6dd77-c82b-4491-8c01-34ab9abae95c"
      },
      "execution_count": 52,
      "outputs": [
        {
          "output_type": "stream",
          "name": "stdout",
          "text": [
            "TypeOfIncident           0\n",
            "TypeOfCollission         0\n",
            "AuthoritiesContacted     0\n",
            "IncidentState            0\n",
            "IncidentCity             0\n",
            "PropertyDamage           0\n",
            "PoliceReport             0\n",
            "CustomerID               0\n",
            "DateOfIncident           0\n",
            "IncidentTime             0\n",
            "NumberOfVehicles         0\n",
            "BodilyInjuries           0\n",
            "IncidentAddress          0\n",
            "Witnesses                0\n",
            "AmountOfInjuryClaim      0\n",
            "AmountOfPropertyClaim    0\n",
            "AmountOfVehicleDamage    0\n",
            "AmountOfTotalClaim       0\n",
            "dtype: int64\n",
            "TypeOfIncident           0\n",
            "TypeOfCollission         0\n",
            "AuthoritiesContacted     0\n",
            "IncidentState            0\n",
            "IncidentCity             0\n",
            "PropertyDamage           0\n",
            "PoliceReport             0\n",
            "CustomerID               0\n",
            "DateOfIncident           0\n",
            "IncidentTime             0\n",
            "NumberOfVehicles         0\n",
            "BodilyInjuries           0\n",
            "IncidentAddress          0\n",
            "Witnesses                0\n",
            "AmountOfInjuryClaim      0\n",
            "AmountOfPropertyClaim    0\n",
            "AmountOfVehicleDamage    0\n",
            "AmountOfTotalClaim       0\n",
            "dtype: int64\n"
          ]
        }
      ]
    },
    {
      "cell_type": "markdown",
      "source": [
        "**Handling by ForwardFilling and BackFilling**"
      ],
      "metadata": {
        "id": "PTf7RGqXMkmh"
      }
    },
    {
      "cell_type": "code",
      "source": [
        "#Remove rows with any missing values\n",
        "train.dropna(inplace=True)\n",
        "\n",
        "#Remove columns with any missing values\n",
        "train.dropna(axis=1, inplace=True)\n"
      ],
      "metadata": {
        "id": "D9Lbd6nC0_i8"
      },
      "execution_count": 26,
      "outputs": []
    },
    {
      "cell_type": "code",
      "source": [
        "#Replace missing values using bfill and ffill for multiple columns\n",
        "columns_to_fill = ['TypeOfCollission', 'IncidentTime', 'PropertyDamage', 'PoliceReport', 'Witnesses', 'AmountOfTotalClaim']\n",
        "\n",
        "#Apply backward fill\n",
        "train[columns_to_fill] = train[columns_to_fill].fillna(method='bfill')\n",
        "\n",
        "#Apply forward fill\n",
        "train[columns_to_fill] = train[columns_to_fill].fillna(method='ffill')\n"
      ],
      "metadata": {
        "id": "I6zJwPu12iUW"
      },
      "execution_count": 34,
      "outputs": []
    },
    {
      "cell_type": "code",
      "source": [
        "train.isnull().sum()\n"
      ],
      "metadata": {
        "colab": {
          "base_uri": "https://localhost:8080/"
        },
        "id": "OU-pdy1B2BU-",
        "outputId": "efba2ea5-b4ad-4821-bb14-3b6c00ee920b"
      },
      "execution_count": 35,
      "outputs": [
        {
          "output_type": "execute_result",
          "data": {
            "text/plain": [
              "CustomerID               0\n",
              "DateOfIncident           0\n",
              "TypeOfIncident           0\n",
              "TypeOfCollission         0\n",
              "SeverityOfIncident       0\n",
              "AuthoritiesContacted     0\n",
              "IncidentState            0\n",
              "IncidentCity             0\n",
              "IncidentAddress          0\n",
              "IncidentTime             0\n",
              "NumberOfVehicles         0\n",
              "PropertyDamage           0\n",
              "BodilyInjuries           0\n",
              "Witnesses                0\n",
              "PoliceReport             0\n",
              "AmountOfTotalClaim       0\n",
              "AmountOfInjuryClaim      0\n",
              "AmountOfPropertyClaim    0\n",
              "AmountOfVehicleDamage    0\n",
              "dtype: int64"
            ]
          },
          "metadata": {},
          "execution_count": 35
        }
      ]
    }
  ]
}